{
 "cells": [
  {
   "attachments": {},
   "cell_type": "markdown",
   "metadata": {},
   "source": [
    "# {{cookiecutter.project_title}}\n",
    "\n",
    "Created By: {{cookiecutter.project_author_name}}\n",
    "\n",
    "{{cookiecutter.project_description}}"
   ]
  },
  {
   "cell_type": "code",
   "execution_count": null,
   "metadata": {},
   "outputs": [],
   "source": [
    "%load_ext autoreload\n",
    "%autoreload 2"
   ]
  },
  {
   "cell_type": "code",
   "execution_count": null,
   "metadata": {},
   "outputs": [],
   "source": [
    "# Importacion de librerías\n",
    "import pandas as pd\n",
    "import numpy as np"
   ]
  }
 ],
 "metadata": {
  "kernelspec": {
   "display_name": "{{cookiecutter.project_slug}}-env",
   "language": "python",
   "name": "python3"
  },
  "language_info": {
   "name": "python",
   "version": "3.7.9"
  },
  "orig_nbformat": 4,
  "vscode": {
   "interpreter": {
    "hash": "1c6c4e192e0c08f63eb77d0350044ec3a8e8e5d417268a7c35d850c7d9f81068"
   }
  }
 },
 "nbformat": 4,
 "nbformat_minor": 2
}
