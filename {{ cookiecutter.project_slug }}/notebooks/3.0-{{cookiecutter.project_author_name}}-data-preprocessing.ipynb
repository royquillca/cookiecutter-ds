{
 "cells": [
  {
   "cell_type": "code",
   "execution_count": null,
   "metadata": {},
   "outputs": [],
   "source": []
  }
 ],
 "metadata": {
  "kernelspec": {
   "display_name": "{{cookiecutter.project_slug}}-env",
   "language": "python",
   "name": "python3"
  },
  "language_info": {
   "name": "python",
   "version": "3.7.9"
  },
  "orig_nbformat": 4,
  "vscode": {
   "interpreter": {
    "hash": "1c6c4e192e0c08f63eb77d0350044ec3a8e8e5d417268a7c35d850c7d9f81068"
   }
  }
 },
 "nbformat": 4,
 "nbformat_minor": 2
}
